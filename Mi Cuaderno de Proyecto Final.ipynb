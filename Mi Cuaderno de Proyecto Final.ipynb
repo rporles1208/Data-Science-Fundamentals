{
  "metadata": {
    "kernelspec": {
      "name": "python",
      "display_name": "Python (Pyodide)",
      "language": "python"
    },
    "language_info": {
      "codemirror_mode": {
        "name": "python",
        "version": 3
      },
      "file_extension": ".py",
      "mimetype": "text/x-python",
      "name": "python",
      "nbconvert_exporter": "python",
      "pygments_lexer": "ipython3",
      "version": "3.8"
    }
  },
  "nbformat_minor": 4,
  "nbformat": 4,
  "cells": [
    {
      "cell_type": "markdown",
      "source": "## Mi Cuaderno de Proyecto Final",
      "metadata": {}
    },
    {
      "cell_type": "markdown",
      "source": "## Introducción\nEste cuaderno es una introducción a la ciencia de datos utilizando Jupyterlite Notebook.\n",
      "metadata": {}
    },
    {
      "cell_type": "markdown",
      "source": "## Lenguajes de la Ciencia de Datos\nLenguajes Principales\n1. Python\n2. R\n3. SQL\n\nLenguajes Adicionales\n1. Scala\n2. Java\n3. C++\n4. Julia",
      "metadata": {}
    },
    {
      "cell_type": "markdown",
      "source": "## Bibliotecas de Ciencia de Datos\n\n1. Pandas\n2. NumPy\n3. Matplotlib\n4. Seaborn\n5. Scikit-Learn\n6. Keras\n7. TensorFlow\n8. Pytorch\n9. Apache Spark",
      "metadata": {}
    },
    {
      "cell_type": "markdown",
      "source": "## Herramientas de Ciencia de Datos\n\n| Herramientas de Ciencia de Datos|\n|-----------------------|\n| Jupyter Notebook      |\n| RStudio               |\n| Visual Studio Code    |\n| Excel                 |\n",
      "metadata": {
        "jp-MarkdownHeadingCollapsed": true
      }
    },
    {
      "cell_type": "markdown",
      "source": "## Ejemplos de Expresiones Aritméticas\n\nEn esta sección, exploraremos algunas expresiones aritméticas básicas utilizando operadores matemáticos en Python. Las expresiones aritméticas nos permiten realizar cálculos numéricos simples y complejos en nuestros programas. A continuación, se presentan algunos ejemplos de operaciones aritméticas comunes que se pueden realizar en Python.\n",
      "metadata": {}
    },
    {
      "cell_type": "code",
      "source": "# Ejemplo Arimético\n(10*2)+2",
      "metadata": {
        "trusted": true
      },
      "outputs": [
        {
          "execution_count": 2,
          "output_type": "execute_result",
          "data": {
            "text/plain": "22"
          },
          "metadata": {}
        }
      ],
      "execution_count": 2
    },
    {
      "cell_type": "code",
      "source": "# Convertir minutos en horas\nminutos = 120\n\nhoras = minutos / 60\n\nprint(\"120 minutos equivalen a\", horas, \"horas.\")\n\n",
      "metadata": {
        "trusted": true
      },
      "outputs": [
        {
          "name": "stdout",
          "text": "120 minutos equivalen a 2.0 horas.\n",
          "output_type": "stream"
        }
      ],
      "execution_count": 4
    },
    {
      "cell_type": "markdown",
      "source": "## Objetivos del Proyecto\n1. Aprender sobre Jupyterlite Notebook.\n2. Practicar la escritura de Markdown.\n3. Familiarizarse con Python para la ciencia de datos.",
      "metadata": {}
    },
    {
      "cell_type": "markdown",
      "source": "## Autor del Proyecto\n\nRodrigo Porles",
      "metadata": {}
    },
    {
      "cell_type": "code",
      "source": "",
      "metadata": {
        "trusted": true
      },
      "outputs": [],
      "execution_count": null
    }
  ]
}